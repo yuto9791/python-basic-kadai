{
  "nbformat": 4,
  "nbformat_minor": 0,
  "metadata": {
    "colab": {
      "provenance": []
    },
    "kernelspec": {
      "name": "python3",
      "display_name": "Python 3"
    },
    "language_info": {
      "name": "python"
    }
  },
  "cells": [
    {
      "cell_type": "markdown",
      "source": [
        "**太字**"
      ],
      "metadata": {
        "id": "AWdAjWdKcR-s"
      }
    },
    {
      "cell_type": "code",
      "source": [
        "class Human:\n",
        "    def __init__(self, name, age):\n",
        "        self.name = name\n",
        "        self.age = age\n",
        "\n",
        "    def check_adult(self):\n",
        "        if self.age >= 20:\n",
        "            print(f\"{self.name} は大人です。\")\n",
        "        else:\n",
        "            print(f\"{self.name} は大人ではありません。\")\n",
        "\n",
        "people = [\n",
        "    Human(\"Taro\", 25),\n",
        "    Human(\"Hanako\", 19),\n",
        "    Human(\"Samurai\", 20)\n",
        "]\n",
        "\n",
        "for person in people:\n",
        "    person.check_adult()\n"
      ],
      "metadata": {
        "colab": {
          "base_uri": "https://localhost:8080/"
        },
        "id": "mqnS1gcP1oU6",
        "outputId": "a56579fc-f423-4009-bda2-8357bf311fbb"
      },
      "execution_count": 1,
      "outputs": [
        {
          "output_type": "stream",
          "name": "stdout",
          "text": [
            "Taro は大人です。\n",
            "Hanako は大人ではありません。\n",
            "Samurai は大人です。\n"
          ]
        }
      ]
    }
  ]
}